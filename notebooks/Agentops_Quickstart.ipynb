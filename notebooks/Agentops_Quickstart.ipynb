{
 "cells": [
  {
   "cell_type": "markdown",
   "id": "371bb8c9-53ec-4026-9903-be00cd618461",
   "metadata": {},
   "source": [
    "# AgentOps Quickstart\n",
    "\n",
    "Get started with AgentOps in minutes with just 2 lines of code for basic monitoring, and explore powerful decorators for custom tracing.\n",
    "\n",
    "## Installation\n",
    "\n",
    "First, install the AgentOps SDK. We recommend including python-dotenv for easy API key management. `pip install agentops python-dotenv` or `uv add agentops python-dotenv`"
   ]
  },
  {
   "cell_type": "markdown",
   "id": "d1e95b97-b6e2-4cf4-8bd8-5c5eab12c66c",
   "metadata": {},
   "source": [
    "## Initial Setup (2 Lines of Code)\n",
    "\n",
    "At its simplest, AgentOps can start monitoring your supported LLM and agent framework calls with just two lines of Python code.\n",
    "\n",
    "- **Import AgentOps**: Add `import agentops` to your script.\n",
    "\n",
    "- **Initialize AgentOps**: Call `agentops.init()` with your API key.\n",
    "\n",
    "You need an AgentOps API key to send data to your dashboard. Get your API key from the [AgentOps Dashboard](https://app.agentops.ai/settings/projects). It’s best practice to set your API key as an environment variable `export AGENTOPS_API_KEY=\"your_agentops_api_key_here\"` or Set in `.env` file. If you use a `.env` file, make sure `load_dotenv()` is called before `agentops.init()`."
   ]
  },
  {
   "cell_type": "code",
   "execution_count": 1,
   "id": "9dae07e6-482e-4e57-880b-386ab50d413a",
   "metadata": {},
   "outputs": [
    {
     "name": "stderr",
     "output_type": "stream",
     "text": [
      "🖇 AgentOps: \u001b[34m\u001b[34mYou're on the agentops free plan 🤔\u001b[0m\u001b[0m\n"
     ]
    }
   ],
   "source": [
    "import os\n",
    "import agentops\n",
    "from dotenv import load_dotenv\n",
    "load_dotenv()\n",
    "\n",
    "# Initialize AgentOps\n",
    "# The API key can be passed directly or set as an environment variable AGENTOPS_API_KEY\n",
    "agentops.init(os.getenv(\"AGENTOPS_API_KEY\"))\n",
    "\n",
    "# That's it for basic auto-instrumentation!\n",
    "# If you're using a supported library (like OpenAI, LangChain, CrewAI, etc.),\n",
    "# AgentOps will now automatically track LLM calls and agent actions."
   ]
  },
  {
   "cell_type": "markdown",
   "id": "f2a1df6e-bc64-4a5b-b470-06f07766aa3f",
   "metadata": {},
   "source": [
    "## Running Your Agent & Viewing Traces\n",
    "\n",
    "After adding the two lines and ensuring your API key is set up:\n",
    "\n",
    "1. Run your agent application as you normally would.\n",
    "2. AgentOps will automatically instrument supported libraries and send trace data.\n",
    "3. Visit your [AgentOps Dashboard](https://app.agentops.ai/traces) to observe your agent’s operations!"
   ]
  },
  {
   "cell_type": "markdown",
   "id": "d3766a92-20b4-4522-8a8f-b9eded4f19f6",
   "metadata": {},
   "source": [
    "## Beyond Automatic Instrumentation: Decorators\n",
    "\n",
    "While AgentOps automatically instruments many popular libraries, you can gain finer-grained control and track custom parts of your code using our powerful decorators. This allows you to define specific operations, group logic under named agents, track tool usage with costs, and create custom traces.\n",
    "\n",
    "### Tracking Custom Operations with @operation\n",
    "Instrument any function in your code to create spans that track its execution, parameters, and return values. These operations will appear in your session visualization alongside LLM calls."
   ]
  },
  {
   "cell_type": "code",
   "execution_count": 5,
   "id": "614de8a0-5bac-46c3-ba0a-01dc7c2bd3ba",
   "metadata": {},
   "outputs": [],
   "source": [
    "from agentops.sdk.decorators import operation\n",
    "\n",
    "@operation\n",
    "def process_data(data):\n",
    "    # Your function logic here\n",
    "    processed_result = data.upper()\n",
    "    # agentops.record(Events(\"Processed Data\", result=processed_result)) # Optional: record specific events\n",
    "    return processed_result\n",
    "\n",
    "# Example usage:\n",
    "my_data = \"example input\"\n",
    "output = process_data(my_data)"
   ]
  },
  {
   "cell_type": "markdown",
   "id": "53707fe3-bd72-4dad-bff7-3919d9ed4c33",
   "metadata": {},
   "source": [
    "### Tracking Agent Logic with @agent\n",
    "\n",
    "If you structure your system with specific named agents (e.g., classes), use the `@agent` decorator on the class and `@operation` on its methods to group all downstream operations under that agent’s context."
   ]
  },
  {
   "cell_type": "code",
   "execution_count": 11,
   "id": "80e7322d-47e4-4f05-b9f5-652a5b32f580",
   "metadata": {},
   "outputs": [],
   "source": [
    "from agentops.sdk.decorators import agent, operation\n",
    "\n",
    "@agent(name=\"MyCustomAgent\") # You can provide a name for the agent\n",
    "class MyAgent:\n",
    "    def __init__(self, agent_id):\n",
    "        self.agent_id = agent_id # agent_id is a reserved parameter for AgentOps\n",
    "        \n",
    "    @operation\n",
    "    def perform_task(self, task_description):\n",
    "        # Agent task logic here\n",
    "        # This could include LLM calls or calls to other @operation decorated functions\n",
    "        return f\"Agent {self.agent_id} completed: {task_description}\"\n",
    "\n",
    "# Example usage:\n",
    "research_agent = MyAgent(agent_id=\"researcher-001\")\n",
    "result = research_agent.perform_task(\"Analyze market trends\")"
   ]
  },
  {
   "cell_type": "markdown",
   "id": "94f6d3ac-2169-42d7-a69d-48ddac473f23",
   "metadata": {},
   "source": [
    "### Tracking Tools with @tool\n",
    "\n",
    "Track the usage of specific tools or functions, and optionally associate costs with them. This data will be aggregated in your dashboard."
   ]
  },
  {
   "cell_type": "code",
   "execution_count": 6,
   "id": "e92bdf5a-ad32-4070-b8a4-da3f302ec687",
   "metadata": {},
   "outputs": [],
   "source": [
    "from agentops.sdk.decorators import tool\n",
    "\n",
    "@tool(name=\"WebSearchTool\", cost=0.05) # Cost is optional\n",
    "def web_search(query: str) -> str:\n",
    "    # Tool logic here\n",
    "    return f\"Search results for: {query}\"\n",
    "    \n",
    "@tool # No cost specified\n",
    "def calculator(expression: str) -> str:\n",
    "    try:\n",
    "        return str(eval(expression))\n",
    "    except Exception as e:\n",
    "        return f\"Error: {e}\"\n",
    "\n",
    "# Example usage:\n",
    "search_result = web_search(\"AgentOps features\")\n",
    "calculation = calculator(\"2 + 2\")"
   ]
  },
  {
   "cell_type": "markdown",
   "id": "b49f7dc0-115b-42f2-93e1-d821513816ce",
   "metadata": {},
   "source": [
    "## Grouping with Traces (@trace or manual)\n",
    "\n",
    "Create custom traces to group a sequence of operations or define logical units of work. You can use the `@trace` decorator or manage traces manually for more complex scenarios.\n",
    "\n",
    "**Note**: *If `auto_start_session=False` in `agentops.init()`, you must use `@trace` or `agentops.start_trace()` for any data to be recorded.*"
   ]
  },
  {
   "cell_type": "code",
   "execution_count": 12,
   "id": "a9750e1c-986f-47a1-9fda-2bfd9ecf5d50",
   "metadata": {},
   "outputs": [
    {
     "name": "stderr",
     "output_type": "stream",
     "text": [
      "🖇 AgentOps: \u001b[34m\u001b[34mSession Replay for MyMainWorkflow trace: https://app.agentops.ai/sessions?trace_id=c3d2a4b80dced0c747a8e232b76b87fb\u001b[0m\u001b[0m\n",
      "🖇 AgentOps: \u001b[34m\u001b[34mSession Replay for MyMainWorkflow.session trace: https://app.agentops.ai/sessions?trace_id=c3d2a4b80dced0c747a8e232b76b87fb\u001b[0m\u001b[0m\n"
     ]
    }
   ],
   "source": [
    "from agentops.sdk.decorators import trace\n",
    "# Assuming MyAgent and web_search are defined as above\n",
    "\n",
    "# Option 1: Using the @trace decorator\n",
    "@trace(name=\"MyMainWorkflow\", tags=[\"main-flow\"])\n",
    "def my_workflow_decorated(task_to_perform):\n",
    "    # Your workflow code here\n",
    "    main_agent = MyAgent(agent_id=\"workflow-agent\") # Assuming MyAgent is defined\n",
    "    result = main_agent.perform_task(task_to_perform)\n",
    "    # Example of using a tool within the trace\n",
    "    tool_result = web_search(f\"details for {task_to_perform}\") # Assuming web_search is defined\n",
    "    return result, tool_result\n",
    "    \n",
    "result_decorated = my_workflow_decorated(\"complex data processing\")\n",
    "\n",
    "# Option 2: Managing traces manually\n",
    "# import agentops # Already imported\n",
    "\n",
    "# custom_trace = agentops.start_trace(name=\"MyManualWorkflow\", tags=[\"manual-flow\"])\n",
    "# try:\n",
    "#     # Your code here\n",
    "#     main_agent = MyAgent(agent_id=\"manual-workflow-agent\") # Assuming MyAgent is defined\n",
    "#     result = main_agent.perform_task(\"another complex task\")\n",
    "#     tool_result = web_search(f\"info for {result}\") # Assuming web_search is defined\n",
    "#     agentops.end_trace(custom_trace, end_state=\"Success\", end_prompt=f\"Completed: {result}\")\n",
    "# except Exception as e:\n",
    "#     if custom_trace: # Ensure trace was started before trying to end it\n",
    "#         agentops.end_trace(custom_trace, end_state=\"Fail\", error_message=str(e))\n",
    "#     raise"
   ]
  },
  {
   "cell_type": "markdown",
   "id": "acb6fd05-f2a0-4d12-b11c-31f445db5a36",
   "metadata": {},
   "source": [
    "### Updating Trace Metadata\n",
    "\n",
    "You can also update metadata on running traces to add context or track progress:"
   ]
  },
  {
   "cell_type": "code",
   "execution_count": 21,
   "id": "187c3c64-6cc4-48c0-8ccd-fbb49a07ad48",
   "metadata": {},
   "outputs": [
    {
     "name": "stderr",
     "output_type": "stream",
     "text": [
      "🖇 AgentOps: No active trace found. Cannot update metadata.\n"
     ]
    },
    {
     "data": {
      "text/plain": [
       "False"
      ]
     },
     "execution_count": 21,
     "metadata": {},
     "output_type": "execute_result"
    }
   ],
   "source": [
    "from agentops import update_trace_metadata\n",
    "\n",
    "# Update metadata during trace execution\n",
    "update_trace_metadata({\n",
    "    \"operation_name\": \"AI Agent Processing\",\n",
    "    \"processing_stage\": \"data_validation\",\n",
    "    \"records_processed\": 1500,\n",
    "    \"user_id\": \"user_123\",\n",
    "    \"tags\": [\"validation\", \"production\"]\n",
    "})"
   ]
  },
  {
   "cell_type": "markdown",
   "id": "969537ad-cfb9-465e-be30-b91c82a3dbbc",
   "metadata": {},
   "source": [
    "## Complete Example with Decorators\n",
    "\n",
    "Here’s a consolidated example showcasing how these decorators can work together:"
   ]
  },
  {
   "cell_type": "code",
   "execution_count": 22,
   "id": "82864b19-8f1c-432a-824f-79de8190aa26",
   "metadata": {},
   "outputs": [
    {
     "name": "stderr",
     "output_type": "stream",
     "text": [
      "🖇 AgentOps: Parameter 'tags' is deprecated and will be removed in v4 in the future. Use 'default_tags' instead.\n",
      "🖇 AgentOps: \u001b[34m\u001b[34mSession Replay for FullResearchWorkflow trace: https://app.agentops.ai/sessions?trace_id=c3d2a4b80dced0c747a8e232b76b87fb\u001b[0m\u001b[0m\n",
      "🖇 AgentOps: \u001b[34m\u001b[34mSession Replay for FullResearchWorkflow.session trace: https://app.agentops.ai/sessions?trace_id=c3d2a4b80dced0c747a8e232b76b87fb\u001b[0m\u001b[0m\n"
     ]
    },
    {
     "name": "stdout",
     "output_type": "stream",
     "text": [
      "Research Report for 'AI in healthcare':\n",
      "Analysis of 'AI in healthcare': Based on 'Advanced search results for 'Deep dive into AI in healthcare': [Details...]', the key findings are...\n"
     ]
    }
   ],
   "source": [
    "import agentops\n",
    "from agentops.sdk.decorators import agent, operation, tool, trace\n",
    "from dotenv import load_dotenv\n",
    "import os\n",
    "\n",
    "# Load environment variables\n",
    "load_dotenv()\n",
    "AGENTOPS_API_KEY = os.getenv(\"AGENTOPS_API_KEY\")\n",
    "\n",
    "# Initialize AgentOps. \n",
    "# Set auto_start_session=False because @trace will manage the session.\n",
    "agentops.init(AGENTOPS_API_KEY, auto_start_session=False, tags=[\"quickstart-complete-example\"])\n",
    "\n",
    "# Define a tool\n",
    "@tool(name=\"AdvancedSearch\", cost=0.02)\n",
    "def advanced_web_search(query: str) -> str:\n",
    "    # Simulate a more advanced search\n",
    "    return f\"Advanced search results for '{query}': [Details...]\"\n",
    "\n",
    "# Define an agent class\n",
    "@agent(name=\"ResearchSpecialistAgent\")\n",
    "class ResearchAgent:\n",
    "    def __init__(self, agent_id: str):\n",
    "        self.agent_id = agent_id # This will be used as the agent_id in AgentOps\n",
    "        \n",
    "    @operation(name=\"ConductResearch\")\n",
    "    def conduct_research(self, research_topic: str) -> str:\n",
    "        # Use the tool within the agent's operation\n",
    "        search_results = advanced_web_search(f\"Deep dive into {research_topic}\")\n",
    "        # Simulate further processing\n",
    "        analysis = f\"Analysis of '{research_topic}': Based on '{search_results}', the key findings are...\"\n",
    "        return analysis\n",
    "\n",
    "# Define a workflow using the @trace decorator\n",
    "@trace(name=\"FullResearchWorkflow\", tags=[\"research\", \"analysis\", \"example\"])\n",
    "def run_full_research_workflow(topic: str) -> str:\n",
    "    specialist_agent = ResearchAgent(agent_id=\"researcher-alpha-007\")\n",
    "    research_findings = specialist_agent.conduct_research(topic)\n",
    "    \n",
    "    final_report = f\"Research Report for '{topic}':\\n{research_findings}\"\n",
    "    # agentops.record(Events(\"ReportGenerated\", details=final_report)) # Optional: record a custom event\n",
    "    return final_report\n",
    "\n",
    "# Execute the workflow\n",
    "final_output = run_full_research_workflow(\"AI in healthcare\")\n",
    "print(final_output)"
   ]
  },
  {
   "cell_type": "code",
   "execution_count": null,
   "id": "dac147f1-eea1-44ea-a211-af5432e78f8c",
   "metadata": {},
   "outputs": [],
   "source": []
  }
 ],
 "metadata": {
  "kernelspec": {
   "display_name": "Python 3 (ipykernel)",
   "language": "python",
   "name": "python3"
  },
  "language_info": {
   "codemirror_mode": {
    "name": "ipython",
    "version": 3
   },
   "file_extension": ".py",
   "mimetype": "text/x-python",
   "name": "python",
   "nbconvert_exporter": "python",
   "pygments_lexer": "ipython3",
   "version": "3.12.11"
  }
 },
 "nbformat": 4,
 "nbformat_minor": 5
}
